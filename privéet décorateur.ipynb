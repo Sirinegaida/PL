{
 "cells": [
  {
   "cell_type": "code",
   "execution_count": null,
   "id": "ee38ec24",
   "metadata": {},
   "outputs": [],
   "source": [
    "class MaClasse:\n",
    "    def fonction_publique(self):\n",
    "        \"\"\"Accessible partout\"\"\"\n",
    "        return \"Je suis publique\"\n",
    "    \n",
    "    def calculer(self, x):\n",
    "        return x * 2\n",
    "\n",
    "# Utilisation\n",
    "obj = MaClasse()\n",
    "print(obj.fonction_publique())  # ✅ OK\n",
    "print(obj.calculer(5))           # ✅ OK"
   ]
  },
  {
   "cell_type": "code",
   "execution_count": null,
   "id": "c6abaf7b",
   "metadata": {},
   "outputs": [],
   "source": [
    "class Compte:\n",
    "    def __init__(self, solde):\n",
    "        self._solde = solde  # Protégée (convention)\n",
    "    \n",
    "    def _verifier_solde(self):\n",
    "        \"\"\"Fonction protégée - ne devrait pas être utilisée à l'extérieur\"\"\"\n",
    "        return self._solde > 0\n",
    "    \n",
    "    def retirer(self, montant):\n",
    "        if self._verifier_solde():  # ✅ OK en interne\n",
    "            self._solde -= montant\n",
    "\n",
    "# Utilisation\n",
    "compte = Compte(100)\n",
    "compte.retirer(50)\n",
    "# compte._verifier_solde()  # ⚠️ Possible mais déconseillé"
   ]
  },
  {
   "cell_type": "code",
   "execution_count": null,
   "id": "635c4521",
   "metadata": {},
   "outputs": [],
   "source": [
    "class BanqueSecure:\n",
    "    def __init__(self, code_secret):\n",
    "        self.__code = code_secret  # Vraiment privée (name mangling)\n",
    "    \n",
    "    def __valider_code(self, code):\n",
    "        \"\"\"Fonction privée - difficile d'accès externe\"\"\"\n",
    "        return code == self.__code\n",
    "    \n",
    "    def authentifier(self, code):\n",
    "        return self.__valider_code(code)  # ✅ OK en interne\n",
    "\n",
    "# Utilisation\n",
    "banque = BanqueSecure(\"1234\")\n",
    "print(banque.authentifier(\"1234\"))  # ✅ OK\n",
    "# banque.__valider_code(\"1234\")     # ❌ ERREUR!\n",
    "# banque.__code                      # ❌ ERREUR!"
   ]
  },
  {
   "cell_type": "code",
   "execution_count": null,
   "id": "4b6df3a7",
   "metadata": {},
   "outputs": [],
   "source": [
    "class Calculatrice:\n",
    "    def __init__(self):\n",
    "        self.__historique = []  # Privé\n",
    "    \n",
    "    # PUBLIC\n",
    "    def additionner(self, a, b):\n",
    "        resultat = a + b\n",
    "        self.__enregistrer(f\"{a} + {b} = {resultat}\")\n",
    "        return resultat\n",
    "    \n",
    "    # PROTÉGÉ\n",
    "    def _valider_nombre(self, n):\n",
    "        return isinstance(n, (int, float))\n",
    "    \n",
    "    # PRIVÉ\n",
    "    def __enregistrer(self, operation):\n",
    "        self.__historique.append(operation)\n",
    "    \n",
    "    # PUBLIC - accès contrôlé au privé\n",
    "    def afficher_historique(self):\n",
    "        return self.__historique.copy()\n",
    "\n",
    "# Utilisation\n",
    "calc = Calculatrice()\n",
    "print(calc.additionner(5, 3))        # ✅ 8\n",
    "print(calc.afficher_historique())    # ✅ ['5 + 3 = 8']\n",
    "# calc.__enregistrer(\"test\")         # ❌ ERREUR!"
   ]
  },
  {
   "cell_type": "code",
   "execution_count": null,
   "id": "a6adb275",
   "metadata": {},
   "outputs": [],
   "source": [
    "def mon_decorateur(func):\n",
    "    def wrapper():\n",
    "        print(\"Avant la fonction\")\n",
    "        func()\n",
    "        print(\"Après la fonction\")\n",
    "    return wrapper\n",
    "\n",
    "@mon_decorateur\n",
    "def dire_bonjour():\n",
    "    print(\"Bonjour!\")\n",
    "\n",
    "dire_bonjour()\n",
    "# Output:\n",
    "# Avant la fonction\n",
    "# Bonjour!\n",
    "# Après la fonction"
   ]
  }
 ],
 "metadata": {
  "language_info": {
   "name": "python"
  }
 },
 "nbformat": 4,
 "nbformat_minor": 5
}
