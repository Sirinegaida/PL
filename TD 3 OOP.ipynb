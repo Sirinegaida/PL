{
 "cells": [
  {
   "cell_type": "markdown",
   "id": "1637c2a0",
   "metadata": {},
   "source": [
    "# OOP"
   ]
  },
  {
   "cell_type": "code",
   "execution_count": null,
   "id": "749b0e0b",
   "metadata": {},
   "outputs": [],
   "source": [
    "class Point:\n",
    "    def __init__(self, nom= 'A', x = 0, y=0):\n",
    "        self.nom = nom\n",
    "        self.x = x\n",
    "        self.y = y\n",
    "    \n",
    "    def __eq__(self , autre):\n",
    "        return self. nom = autre.nom \n",
    "    \n",
    "    def __lt__(self , autre):\n",
    "        return self < autre\n",
    "    \n",
    "    def __le__(self , autre):\n",
    "        return self < autre and self = autre\n",
    "    \n",
    "    \n",
    "p1, p2, p3 = point()"
   ]
  },
  {
   "cell_type": "markdown",
   "id": "671721e1",
   "metadata": {},
   "source": [
    "## Exercice 1 \n"
   ]
  },
  {
   "cell_type": "markdown",
   "id": "265ba4ce",
   "metadata": {},
   "source": [
    "Partie 1\n"
   ]
  },
  {
   "cell_type": "code",
   "execution_count": null,
   "id": "944cd86a",
   "metadata": {},
   "outputs": [],
   "source": [
    "def fraction:\n",
    "    def _init__(self ,  a, b):\n",
    "        try :\n",
    "            self.a = a\n",
    "            self.b= b \n",
    "        except TypeError:\n",
    "            print(\"attention les deux entiers doivent etre de type entier \")\n",
    "        except ZeroDivisionError:\n",
    "            print ( \"b ne doit pas etre nul \")\n",
    "        "
   ]
  },
  {
   "cell_type": "markdown",
   "id": "c8be1f26",
   "metadata": {},
   "source": [
    "essai prof\n",
    "\n",
    "\n",
    "on a pas la notion de surcharge en python\n",
    "mais on va jouer avec les parametres en defaut "
   ]
  },
  {
   "cell_type": "code",
   "execution_count": 18,
   "id": "53bb8edb",
   "metadata": {},
   "outputs": [],
   "source": [
    "class fraction : \n",
    "    def __init__ (self , num = 0 , denom = 1):\n",
    "        print(\"creation d'une fraction\")\n",
    "        if  not isinstance(num,int ) or  not isinstance(denom,int ):\n",
    "            raise TypeFrror (\"num et denum doivent etre des entiers \")\n",
    "        if denom ==0:\n",
    "            raise ZeroDivisionError (\"le denominteur doit etre different de 0 \")\n",
    "        if denom<0:\n",
    "            num, denom= -num , -denom\n",
    "        self.num= num\n",
    "        self.denom = denom\n",
    "    "
   ]
  },
  {
   "cell_type": "code",
   "execution_count": 15,
   "id": "86f743ba",
   "metadata": {},
   "outputs": [],
   "source": [
    "f1 = fraction()\n",
    "f2= fraction (2)\n",
    "f3= fraction(2,3)\n",
    "f4= fraction(- 2,-3)"
   ]
  },
  {
   "cell_type": "code",
   "execution_count": 11,
   "id": "421b90ca",
   "metadata": {},
   "outputs": [
    {
     "name": "stdout",
     "output_type": "stream",
     "text": [
      "0 / 1\n"
     ]
    }
   ],
   "source": [
    "print(f1.num ,'/', f1.denom)"
   ]
  },
  {
   "cell_type": "code",
   "execution_count": 9,
   "id": "4f281492",
   "metadata": {},
   "outputs": [
    {
     "name": "stdout",
     "output_type": "stream",
     "text": [
      "2 / 1\n"
     ]
    }
   ],
   "source": [
    "print(f2.num ,'/', f2.denom)"
   ]
  },
  {
   "cell_type": "code",
   "execution_count": 16,
   "id": "05d6a425",
   "metadata": {},
   "outputs": [
    {
     "name": "stdout",
     "output_type": "stream",
     "text": [
      "2 / 3\n"
     ]
    }
   ],
   "source": [
    "print(f4.num ,'/', f4.denom)"
   ]
  },
  {
   "cell_type": "markdown",
   "id": "139b1ca0",
   "metadata": {},
   "source": [
    "pour la beaute de l'ecriture on doit  avoir un seul (-)"
   ]
  },
  {
   "cell_type": "markdown",
   "id": "7461184c",
   "metadata": {},
   "source": [
    "**partie2**"
   ]
  },
  {
   "cell_type": "markdown",
   "id": "b30c26f1",
   "metadata": {},
   "source": [
    "la division doit etre entire  => gcd "
   ]
  },
  {
   "cell_type": "code",
   "execution_count": 17,
   "id": "c54d5342",
   "metadata": {
    "scrolled": true
   },
   "outputs": [
    {
     "name": "stdout",
     "output_type": "stream",
     "text": [
      "['__doc__', '__loader__', '__name__', '__package__', '__spec__', 'acos', 'acosh', 'asin', 'asinh', 'atan', 'atan2', 'atanh', 'cbrt', 'ceil', 'comb', 'copysign', 'cos', 'cosh', 'degrees', 'dist', 'e', 'erf', 'erfc', 'exp', 'exp2', 'expm1', 'fabs', 'factorial', 'floor', 'fmod', 'frexp', 'fsum', 'gamma', 'gcd', 'hypot', 'inf', 'isclose', 'isfinite', 'isinf', 'isnan', 'isqrt', 'lcm', 'ldexp', 'lgamma', 'log', 'log10', 'log1p', 'log2', 'modf', 'nan', 'nextafter', 'perm', 'pi', 'pow', 'prod', 'radians', 'remainder', 'sin', 'sinh', 'sqrt', 'tan', 'tanh', 'tau', 'trunc', 'ulp']\n"
     ]
    }
   ],
   "source": [
    "import math\n",
    "print(dir(math))"
   ]
  },
  {
   "cell_type": "code",
   "execution_count": 22,
   "id": "40180585",
   "metadata": {},
   "outputs": [],
   "source": [
    "class fraction : \n",
    "    def __init__ (self , num = 0 , denom = 1):\n",
    "        print(\"creation d'une fraction\")\n",
    "        if  not isinstance(num,int ) or  not isinstance(denom,int ):\n",
    "            raise TypeFrror (\"num et denum doivent etre des entiers \")\n",
    "        if denom ==0:\n",
    "            raise ZeroDivisionError (\"le denominteur doit etre different de 0 \")\n",
    "        if denom<0:\n",
    "            num, denom= -num , -denom\n",
    "        self.num= num\n",
    "        self.denom = denom\n",
    "        self.__reduce()\n",
    "    \n",
    "    def __reduce (self):\n",
    "        from math import gcd\n",
    "        pgcd = gcd (self.num , self.denom)\n",
    "        self.num , self.denom = self.num //pgcd , self.denom //pgcd "
   ]
  },
  {
   "cell_type": "code",
   "execution_count": 26,
   "id": "cbe1a1a8",
   "metadata": {},
   "outputs": [
    {
     "name": "stdout",
     "output_type": "stream",
     "text": [
      "creation d'une fraction\n",
      "creation d'une fraction\n",
      "creation d'une fraction\n",
      "creation d'une fraction\n",
      "creation d'une fraction\n"
     ]
    }
   ],
   "source": [
    "f1 = fraction()\n",
    "f2= fraction (2)\n",
    "f3= fraction(2,3)\n",
    "f4= fraction(12,24)\n",
    "f5= fraction(128,12)"
   ]
  },
  {
   "cell_type": "code",
   "execution_count": 24,
   "id": "220e2a0f",
   "metadata": {},
   "outputs": [
    {
     "name": "stdout",
     "output_type": "stream",
     "text": [
      "1 / 2\n"
     ]
    }
   ],
   "source": [
    "print(f4.num ,'/', f4.denom)"
   ]
  },
  {
   "cell_type": "code",
   "execution_count": 27,
   "id": "1264606c",
   "metadata": {},
   "outputs": [
    {
     "name": "stdout",
     "output_type": "stream",
     "text": [
      "32 / 3\n"
     ]
    }
   ],
   "source": [
    "print(f5.num ,'/', f5.denom)"
   ]
  },
  {
   "cell_type": "markdown",
   "id": "b9c621c4",
   "metadata": {},
   "source": [
    "**partie 3**"
   ]
  },
  {
   "cell_type": "code",
   "execution_count": 47,
   "id": "d6627f6c",
   "metadata": {},
   "outputs": [],
   "source": [
    "class fraction : \n",
    "    def __init__ (self , num = 0 , denom = 1):\n",
    "        print(\"creation d'une fraction\")\n",
    "        if  not isinstance(num,int ) or  not isinstance(denom,int ):\n",
    "            raise TypeFrror (\"num et denum doivent etre des entiers \")\n",
    "        if denom ==0:\n",
    "            raise ZeroDivisionError (\"le denominteur doit etre different de 0 \")\n",
    "        if denom<0:\n",
    "            num, denom= -num , -denom\n",
    "        self.num= num\n",
    "        self.denom = denom\n",
    "        self.__reduce()\n",
    "\n",
    "    \n",
    "    def __reduce (self):\n",
    "        from math import gcd\n",
    "        pgcd = gcd (self.num , self.denom)\n",
    "        self.num , self.denom = self.num //pgcd , self.denom //pgcd \n",
    "    \n",
    "    #format d'affichage \n",
    "    def __str__(self):\n",
    "        if self.denom != 1:\n",
    "            return str (self.num )+  '/' + str(self.denom)\n",
    "        else: \n",
    "            return str(self.num)\n",
    "        \n",
    "    def __repr__ (self):\n",
    "        return \"fraction({}, {})\".format (self.num , self.denom)"
   ]
  },
  {
   "cell_type": "code",
   "execution_count": 48,
   "id": "4e1ea15f",
   "metadata": {},
   "outputs": [
    {
     "name": "stdout",
     "output_type": "stream",
     "text": [
      "creation d'une fraction\n",
      "creation d'une fraction\n",
      "creation d'une fraction\n"
     ]
    }
   ],
   "source": [
    "f1 = fraction()\n",
    "f2= fraction (2)\n",
    "f3= fraction(2,3)"
   ]
  },
  {
   "cell_type": "code",
   "execution_count": 49,
   "id": "23c46e83",
   "metadata": {},
   "outputs": [
    {
     "name": "stdout",
     "output_type": "stream",
     "text": [
      "2/3\n"
     ]
    }
   ],
   "source": [
    "print(f3)"
   ]
  },
  {
   "cell_type": "code",
   "execution_count": 50,
   "id": "56e2e7b0",
   "metadata": {
    "scrolled": true
   },
   "outputs": [
    {
     "name": "stdout",
     "output_type": "stream",
     "text": [
      "creation d'une fraction\n"
     ]
    }
   ],
   "source": [
    "f4 = eval(repr(f3))"
   ]
  },
  {
   "cell_type": "code",
   "execution_count": 52,
   "id": "fd899ba3",
   "metadata": {},
   "outputs": [
    {
     "name": "stdout",
     "output_type": "stream",
     "text": [
      "2/3\n"
     ]
    }
   ],
   "source": [
    "print(f4)"
   ]
  },
  {
   "cell_type": "markdown",
   "id": "bb17bbae",
   "metadata": {},
   "source": [
    "**partie 5**\n"
   ]
  },
  {
   "cell_type": "code",
   "execution_count": 55,
   "id": "12fab220",
   "metadata": {},
   "outputs": [],
   "source": [
    "class fraction : \n",
    "    def __init__ (self , num = 0 , denom = 1):\n",
    "        print(\"creation d'une fraction\")\n",
    "        if  not isinstance(num,int ) or  not isinstance(denom,int ):\n",
    "            raise TypeError (\"num et denum doivent etre des entiers \")\n",
    "        if denom ==0:\n",
    "            raise ZeroDivisionError (\"le denominteur doit etre different de 0 \")\n",
    "        if denom<0:\n",
    "            num, denom= -num , -denom\n",
    "        self.num= num\n",
    "        self.denom = denom\n",
    "        self.__reduce()\n",
    "\n",
    "    \n",
    "    def __reduce (self):\n",
    "        from math import gcd\n",
    "        pgcd = gcd (self.num , self.denom)\n",
    "        self.num , self.denom = self.num //pgcd , self.denom //pgcd \n",
    "    \n",
    "    #format d'affichage \n",
    "    def __str__(self):\n",
    "        if self.denom != 1:\n",
    "            return str (self.num )+  '/' + str(self.denom)\n",
    "        else: \n",
    "            return str(self.num)\n",
    "        \n",
    "    def __repr__ (self):\n",
    "        return \"fraction({}, {})\".format (self.num , self.denom)\n",
    "    \n",
    "    \n",
    "    def __mul__(self , autre ):\n",
    "        return fraction (self.num * autre.num , self.denom * autre.denom)"
   ]
  },
  {
   "cell_type": "code",
   "execution_count": 57,
   "id": "9e20b5db",
   "metadata": {},
   "outputs": [
    {
     "name": "stdout",
     "output_type": "stream",
     "text": [
      "creation d'une fraction\n",
      "creation d'une fraction\n",
      "creation d'une fraction\n"
     ]
    }
   ],
   "source": [
    "f1, f2  = fraction(3,4) , fraction (4,3)\n",
    "f3 = f1*f2"
   ]
  },
  {
   "cell_type": "code",
   "execution_count": 58,
   "id": "5b348976",
   "metadata": {},
   "outputs": [
    {
     "name": "stdout",
     "output_type": "stream",
     "text": [
      "3/4 x 4/3 = 1\n"
     ]
    }
   ],
   "source": [
    "print(f1 , 'x' , f2 , '=' ,f3)"
   ]
  },
  {
   "cell_type": "markdown",
   "id": "ce27732f",
   "metadata": {},
   "source": [
    "**partie6**"
   ]
  },
  {
   "cell_type": "code",
   "execution_count": 59,
   "id": "c2cd4680",
   "metadata": {},
   "outputs": [],
   "source": [
    "class fraction : \n",
    "    def __init__ (self , num = 0 , denom = 1):\n",
    "        print(\"creation d'une fraction\")\n",
    "        if  not isinstance(num,int ) or  not isinstance(denom,int ):\n",
    "            raise TypeError (\"num et denum doivent etre des entiers \")\n",
    "        if denom ==0:\n",
    "            raise ZeroDivisionError (\"le denominteur doit etre different de 0 \")\n",
    "        if denom<0:\n",
    "            num, denom= -num , -denom\n",
    "        self.num= num\n",
    "        self.denom = denom\n",
    "        self.__reduce()\n",
    "\n",
    "    \n",
    "    def __reduce (self):\n",
    "        from math import gcd\n",
    "        pgcd = gcd (self.num , self.denom)\n",
    "        self.num , self.denom = self.num //pgcd , self.denom //pgcd \n",
    "    \n",
    "    #format d'affichage \n",
    "    def __str__(self):\n",
    "        if self.denom != 1:\n",
    "            return str (self.num )+  '/' + str(self.denom)\n",
    "        else: \n",
    "            return str(self.num)\n",
    "        \n",
    "    def __repr__ (self):\n",
    "        return \"fraction({}, {})\".format (self.num , self.denom)\n",
    "    \n",
    "    \n",
    "    def __mul__(self , autre ):\n",
    "        return fraction (self.num * autre.num , self.denom * autre.denom)\n",
    "    \n",
    "    #resultat de eq est logique \n",
    "    def __eq__(self , autre ):\n",
    "        return self.num == autre.num and  self.denom == autre.denom \n",
    "        "
   ]
  },
  {
   "cell_type": "code",
   "execution_count": 60,
   "id": "d9b77f33",
   "metadata": {},
   "outputs": [
    {
     "name": "stdout",
     "output_type": "stream",
     "text": [
      "creation d'une fraction\n",
      "creation d'une fraction\n",
      "False\n"
     ]
    }
   ],
   "source": [
    "f1, f2  = fraction(3,4) , fraction (3,5)\n",
    "\n",
    "print(f1 ==f2)\n",
    "\n"
   ]
  },
  {
   "cell_type": "code",
   "execution_count": 61,
   "id": "d4df6f4a",
   "metadata": {
    "scrolled": true
   },
   "outputs": [
    {
     "name": "stdout",
     "output_type": "stream",
     "text": [
      "creation d'une fraction\n",
      "creation d'une fraction\n",
      "True\n"
     ]
    }
   ],
   "source": [
    "f1, f2  = fraction(3,4) , fraction (3,4)\n",
    "\n",
    "print(f1 ==f2)\n"
   ]
  },
  {
   "cell_type": "markdown",
   "id": "588a54e0",
   "metadata": {},
   "source": [
    "## Exercice 2"
   ]
  },
  {
   "cell_type": "code",
   "execution_count": 131,
   "id": "218272e9",
   "metadata": {},
   "outputs": [],
   "source": [
    "class Temperature: \n",
    "    def __init__ ( self , val= 0  , ttype = 'C' ):\n",
    "        if ttype == 'C':\n",
    "            self.__valeur = val\n",
    "        elif ttype == 'K':\n",
    "            self.__valeur  = val- 273.15\n",
    "        elif ttype == 'F':\n",
    "            self.__valeur  =(val- 32)/1.8\n",
    "        else : \n",
    "            raise ValueError (str(type (ttype)) + \" type de temperature inconnue \")\n",
    "            \n",
    "    @property\n",
    "    def fahrenheit (self):\n",
    "        return self.__valeur* 1.8 + 32\n",
    "    @property \n",
    "    def kelvin(self):\n",
    "        return self.__valeur + 273.15\n",
    "    @property \n",
    "    def celsius(self):\n",
    "        return self.__valeur\n",
    "\n",
    "    @celsius.setter\n",
    "    def celsius (self, val):\n",
    "        self.__valeur = val "
   ]
  },
  {
   "cell_type": "code",
   "execution_count": 134,
   "id": "d425605f",
   "metadata": {},
   "outputs": [
    {
     "name": "stdout",
     "output_type": "stream",
     "text": [
      "65.30000000000001 283.15 0.0\n"
     ]
    }
   ],
   "source": [
    "\n",
    "t2 = Temperature (18.5, 'C')\n",
    "t3 = Temperature (10, ttype = 'C')\n",
    "t4 = Temperature (273.15, ttype = 'K')\n",
    "t5 = Temperature (32, ttype = 'F')\n",
    "print ( t2.fahrenheit, t3.kelvin, t4.celsius )\n",
    "\n"
   ]
  },
  {
   "cell_type": "code",
   "execution_count": 100,
   "id": "16de0365",
   "metadata": {},
   "outputs": [
    {
     "name": "stdout",
     "output_type": "stream",
     "text": [
      "<__main__.Temperature object at 0x0000024BCE9B5890>\n"
     ]
    }
   ],
   "source": [
    "print(t1)"
   ]
  },
  {
   "cell_type": "code",
   "execution_count": 123,
   "id": "bf086faa",
   "metadata": {},
   "outputs": [
    {
     "data": {
      "text/plain": [
       "['_Temperature__temp',\n",
       " '__class__',\n",
       " '__delattr__',\n",
       " '__dict__',\n",
       " '__dir__',\n",
       " '__doc__',\n",
       " '__eq__',\n",
       " '__format__',\n",
       " '__ge__',\n",
       " '__getattribute__',\n",
       " '__getstate__',\n",
       " '__gt__',\n",
       " '__hash__',\n",
       " '__init__',\n",
       " '__init_subclass__',\n",
       " '__le__',\n",
       " '__lt__',\n",
       " '__module__',\n",
       " '__ne__',\n",
       " '__new__',\n",
       " '__reduce__',\n",
       " '__reduce_ex__',\n",
       " '__repr__',\n",
       " '__setattr__',\n",
       " '__sizeof__',\n",
       " '__str__',\n",
       " '__subclasshook__',\n",
       " '__weakref__']"
      ]
     },
     "execution_count": 123,
     "metadata": {},
     "output_type": "execute_result"
    }
   ],
   "source": [
    "dir(t1)"
   ]
  },
  {
   "cell_type": "code",
   "execution_count": null,
   "id": "cc362ece",
   "metadata": {},
   "outputs": [],
   "source": []
  },
  {
   "cell_type": "code",
   "execution_count": null,
   "id": "bead91ee",
   "metadata": {},
   "outputs": [],
   "source": []
  },
  {
   "cell_type": "code",
   "execution_count": null,
   "id": "944f8035",
   "metadata": {},
   "outputs": [],
   "source": []
  }
 ],
 "metadata": {
  "kernelspec": {
   "display_name": "Python 3 (ipykernel)",
   "language": "python",
   "name": "python3"
  },
  "language_info": {
   "codemirror_mode": {
    "name": "ipython",
    "version": 3
   },
   "file_extension": ".py",
   "mimetype": "text/x-python",
   "name": "python",
   "nbconvert_exporter": "python",
   "pygments_lexer": "ipython3",
   "version": "3.11.3"
  }
 },
 "nbformat": 4,
 "nbformat_minor": 5
}
