{
 "cells": [
  {
   "cell_type": "markdown",
   "id": "69f5bcaf",
   "metadata": {},
   "source": [
    "## TD2: Gestion des fichiers"
   ]
  },
  {
   "cell_type": "code",
   "execution_count": 2,
   "id": "98d1e193",
   "metadata": {},
   "outputs": [],
   "source": [
    "f1 = open ('Hello.txt','w')\n",
    "f1.write(\"hello world\")\n",
    "f1.close()"
   ]
  },
  {
   "cell_type": "markdown",
   "id": "eac0741a",
   "metadata": {},
   "source": [
    "### Exercice 1"
   ]
  },
  {
   "cell_type": "markdown",
   "id": "56ebea73",
   "metadata": {},
   "source": [
    "**Question 1**"
   ]
  },
  {
   "cell_type": "code",
   "execution_count": 2,
   "id": "670de50a",
   "metadata": {},
   "outputs": [
    {
     "name": "stdout",
     "output_type": "stream",
     "text": [
      "Donner la ligne 1 : ygggdsjk cd yjv\n",
      "Donner la ligne 2 : iutcytdyjf\n",
      "Donner la ligne 3 : iyrytcytd\n",
      "Donner la ligne 4 : ilytyvyt\n"
     ]
    }
   ],
   "source": [
    "def saisir_message():\n",
    "    try:\n",
    "        with open('message.txt', 'w') as f1:\n",
    "            for i in range(4):\n",
    "                f1.write(input(\"Donner la ligne {} : \".format(i+1)))\n",
    "         \n",
    "    except IOError:\n",
    "        pass\n",
    "\n",
    "saisir_message()"
   ]
  },
  {
   "cell_type": "code",
   "execution_count": null,
   "id": "f7aa2c48",
   "metadata": {},
   "outputs": [],
   "source": [
    "def lire_message ():\n",
    "    try:\n",
    "    with open ('message.txt', 'r') as f1:\n",
    "        f1.read()\n",
    "        "
   ]
  },
  {
   "cell_type": "markdown",
   "id": "9bc501f0",
   "metadata": {},
   "source": [
    "**Question 2**"
   ]
  },
  {
   "cell_type": "code",
   "execution_count": null,
   "id": "f61544b5",
   "metadata": {},
   "outputs": [],
   "source": [
    "def replace (file1, file2 , mot1, mot2):\n",
    "    with open(file1 , 'rt') as f1, open(file2, 'wt') as f2:\n",
    "            f1lines= f1.readlines()\n",
    "            for k in range(len(f1lines)):\n",
    "                lmots = f1lines(.split( )\n",
    "                 for i in range (len()):\n",
    "                                if lmots\n",
    "                    \n",
    "                                \n",
    "                                \n",
    "                \n",
    "            \n"
   ]
  },
  {
   "cell_type": "code",
   "execution_count": null,
   "id": "1c200c27",
   "metadata": {},
   "outputs": [],
   "source": [
    "replace ('hello.txt', 'hello1.txt' , 'monde', 'europe' )"
   ]
  },
  {
   "cell_type": "code",
   "execution_count": 32,
   "id": "2130917d",
   "metadata": {},
   "outputs": [
    {
     "name": "stdout",
     "output_type": "stream",
     "text": [
      "['le', 'roi', 'est', 'mort', 'ce', 'soir']\n"
     ]
    }
   ],
   "source": [
    "line= \"le roi est mort ce soir \"\n",
    "lmots= line.split()\n",
    "print(lmots)"
   ]
  },
  {
   "cell_type": "code",
   "execution_count": 33,
   "id": "04711b74",
   "metadata": {},
   "outputs": [
    {
     "name": "stdout",
     "output_type": "stream",
     "text": [
      "leroiestmortcesoir\n"
     ]
    }
   ],
   "source": [
    "ch= \"\".join(lmots)\n",
    "print(ch)\n"
   ]
  },
  {
   "cell_type": "code",
   "execution_count": 34,
   "id": "0be90cfd",
   "metadata": {},
   "outputs": [
    {
     "name": "stdout",
     "output_type": "stream",
     "text": [
      "le roi est mort ce soir\n"
     ]
    }
   ],
   "source": [
    "ch= \" \".join(lmots)\n",
    "print(ch)"
   ]
  },
  {
   "cell_type": "code",
   "execution_count": 35,
   "id": "387f609f",
   "metadata": {
    "scrolled": true
   },
   "outputs": [
    {
     "name": "stdout",
     "output_type": "stream",
     "text": [
      "le-roi-est-mort-ce-soir\n"
     ]
    }
   ],
   "source": [
    "ch= \"-\".join(lmots)\n",
    "print(ch)"
   ]
  },
  {
   "cell_type": "code",
   "execution_count": 36,
   "id": "aa2c145c",
   "metadata": {},
   "outputs": [
    {
     "name": "stdout",
     "output_type": "stream",
     "text": [
      "le-roi-est-mort-ce-soir\n"
     ]
    }
   ],
   "source": [
    "print('-'.join(ch.split(\":\")))"
   ]
  },
  {
   "cell_type": "markdown",
   "id": "63b1c897",
   "metadata": {},
   "source": [
    "**Question 3**\n"
   ]
  },
  {
   "cell_type": "code",
   "execution_count": null,
   "id": "f66b488c",
   "metadata": {},
   "outputs": [],
   "source": []
  },
  {
   "cell_type": "markdown",
   "id": "73387089",
   "metadata": {},
   "source": [
    "# Pickle"
   ]
  },
  {
   "cell_type": "markdown",
   "id": "35d19bf4",
   "metadata": {},
   "source": [
    "Exemple"
   ]
  },
  {
   "cell_type": "code",
   "execution_count": 32,
   "id": "8a0afda3",
   "metadata": {},
   "outputs": [],
   "source": [
    "ch = \"hello world\"\n",
    "t1 ={1,2,3,4}\n",
    "l1 = [i for i in range (5,100,5)]\n",
    "dict = {1:1 , 2:2 , 3:3}\n",
    "\n"
   ]
  },
  {
   "cell_type": "code",
   "execution_count": 33,
   "id": "342da59c",
   "metadata": {},
   "outputs": [
    {
     "name": "stdout",
     "output_type": "stream",
     "text": [
      "{1: 1, 2: 2, 3: 3}\n"
     ]
    }
   ],
   "source": [
    "print(dict)"
   ]
  },
  {
   "cell_type": "code",
   "execution_count": 36,
   "id": "9caaf20b",
   "metadata": {},
   "outputs": [
    {
     "name": "stdout",
     "output_type": "stream",
     "text": [
      "hello world\n",
      "{1, 2, 3, 4}\n",
      "[5, 10, 15, 20, 25, 30, 35, 40, 45, 50, 55, 60, 65, 70, 75, 80, 85, 90, 95]\n",
      "{1: 1, 2: 2, 3: 3}\n"
     ]
    }
   ],
   "source": [
    "import pickle\n",
    "\n",
    "with open('objects.bin','rb') as obj_file :\n",
    "    print(pickle.load(obj_file))\n",
    "    print(pickle.load(obj_file))\n",
    "    print(pickle.load(obj_file))\n",
    "    print(pickle.load(obj_file))"
   ]
  },
  {
   "cell_type": "markdown",
   "id": "d9845df8",
   "metadata": {},
   "source": [
    "## Exercice2"
   ]
  },
  {
   "cell_type": "code",
   "execution_count": 20,
   "id": "dd95a70d",
   "metadata": {},
   "outputs": [],
   "source": [
    "def Saisir_membre():\n",
    "    nom =input('Donner le nom du membre: ')\n",
    "    prenom =input('Donner le prenom du membre: ')\n",
    "    adresse =input('Donner le adresse du membre: ')\n",
    "    cpost = input('Donner le code postal du membre: ')\n",
    "    numtel = input('Donner le numero de telephone du membre: ')\n",
    "    \n",
    "    membre = {\n",
    "        'Nom': nom,\n",
    "        'Prenom': prenom,\n",
    "        'Adresse': adresse,\n",
    "        'CPost': cpost,\n",
    "        'NumTele': numtel\n",
    "    }\n",
    "    return membre\n",
    "   "
   ]
  },
  {
   "cell_type": "code",
   "execution_count": 21,
   "id": "a434ae03",
   "metadata": {
    "scrolled": true
   },
   "outputs": [
    {
     "name": "stdout",
     "output_type": "stream",
     "text": [
      "Donner le nom du membre: rahma\n",
      "Donner le prenom du membre: rahmla\n",
      "Donner le adresse du membre: rue\n",
      "Donner le code postal du membre: 5011\n",
      "Donner le numero de telephone du membre: 4784183643684\n",
      "{'Nom': 'rahma', 'Prenom': 'rahmla', 'Adresse': 'rue', 'CPost': '5011', 'NumTele': '4784183643684'}\n"
     ]
    }
   ],
   "source": [
    "membre = Saisir_membre()\n",
    "print(membre)"
   ]
  },
  {
   "cell_type": "markdown",
   "id": "97fdb386",
   "metadata": {},
   "source": [
    "**Question 2**"
   ]
  },
  {
   "cell_type": "code",
   "execution_count": 29,
   "id": "6c9eea11",
   "metadata": {},
   "outputs": [],
   "source": [
    "import pickle\n",
    "def enregistrer(membre):\n",
    "    \n",
    "    try:\n",
    "        with open('membres.bin','ab') as f:\n",
    "                 pickle.dump(membre,f)\n",
    "                 pickle.dump(membre,f)\n",
    "    except:\n",
    "        pass"
   ]
  },
  {
   "cell_type": "markdown",
   "id": "c4816d31",
   "metadata": {},
   "source": [
    "**Question 3**"
   ]
  },
  {
   "cell_type": "code",
   "execution_count": 30,
   "id": "b5a24779",
   "metadata": {},
   "outputs": [],
   "source": [
    "import pickle\n",
    "\n",
    "def liste_membres():\n",
    "    with open('membres.bin','rb') as f1:\n",
    "            print(pickle.load(f1))\n",
    "            print(pickle.load(f1))\n",
    "            \n"
   ]
  },
  {
   "cell_type": "code",
   "execution_count": 31,
   "id": "824e7e1a",
   "metadata": {},
   "outputs": [
    {
     "ename": "FileNotFoundError",
     "evalue": "[Errno 2] No such file or directory: 'membres.bin'",
     "output_type": "error",
     "traceback": [
      "\u001b[1;31m---------------------------------------------------------------------------\u001b[0m",
      "\u001b[1;31mFileNotFoundError\u001b[0m                         Traceback (most recent call last)",
      "Cell \u001b[1;32mIn[31], line 1\u001b[0m\n\u001b[1;32m----> 1\u001b[0m liste_membres()\n\u001b[0;32m      2\u001b[0m \u001b[38;5;28mprint\u001b[39m(membre)\n",
      "Cell \u001b[1;32mIn[30], line 4\u001b[0m, in \u001b[0;36mliste_membres\u001b[1;34m()\u001b[0m\n\u001b[0;32m      3\u001b[0m \u001b[38;5;28;01mdef\u001b[39;00m \u001b[38;5;21mliste_membres\u001b[39m():\n\u001b[1;32m----> 4\u001b[0m     \u001b[38;5;28;01mwith\u001b[39;00m \u001b[38;5;28mopen\u001b[39m(\u001b[38;5;124m'\u001b[39m\u001b[38;5;124mmembres.bin\u001b[39m\u001b[38;5;124m'\u001b[39m,\u001b[38;5;124m'\u001b[39m\u001b[38;5;124mrb\u001b[39m\u001b[38;5;124m'\u001b[39m) \u001b[38;5;28;01mas\u001b[39;00m f1:\n\u001b[0;32m      5\u001b[0m             \u001b[38;5;28mprint\u001b[39m(pickle\u001b[38;5;241m.\u001b[39mload(f1))\n\u001b[0;32m      6\u001b[0m             \u001b[38;5;28mprint\u001b[39m(pickle\u001b[38;5;241m.\u001b[39mload(f1))\n",
      "File \u001b[1;32mC:\\ProgramData\\anaconda3\\Lib\\site-packages\\IPython\\core\\interactiveshell.py:286\u001b[0m, in \u001b[0;36m_modified_open\u001b[1;34m(file, *args, **kwargs)\u001b[0m\n\u001b[0;32m    279\u001b[0m \u001b[38;5;28;01mif\u001b[39;00m file \u001b[38;5;129;01min\u001b[39;00m {\u001b[38;5;241m0\u001b[39m, \u001b[38;5;241m1\u001b[39m, \u001b[38;5;241m2\u001b[39m}:\n\u001b[0;32m    280\u001b[0m     \u001b[38;5;28;01mraise\u001b[39;00m \u001b[38;5;167;01mValueError\u001b[39;00m(\n\u001b[0;32m    281\u001b[0m         \u001b[38;5;124mf\u001b[39m\u001b[38;5;124m\"\u001b[39m\u001b[38;5;124mIPython won\u001b[39m\u001b[38;5;124m'\u001b[39m\u001b[38;5;124mt let you open fd=\u001b[39m\u001b[38;5;132;01m{\u001b[39;00mfile\u001b[38;5;132;01m}\u001b[39;00m\u001b[38;5;124m by default \u001b[39m\u001b[38;5;124m\"\u001b[39m\n\u001b[0;32m    282\u001b[0m         \u001b[38;5;124m\"\u001b[39m\u001b[38;5;124mas it is likely to crash IPython. If you know what you are doing, \u001b[39m\u001b[38;5;124m\"\u001b[39m\n\u001b[0;32m    283\u001b[0m         \u001b[38;5;124m\"\u001b[39m\u001b[38;5;124myou can use builtins\u001b[39m\u001b[38;5;124m'\u001b[39m\u001b[38;5;124m open.\u001b[39m\u001b[38;5;124m\"\u001b[39m\n\u001b[0;32m    284\u001b[0m     )\n\u001b[1;32m--> 286\u001b[0m \u001b[38;5;28;01mreturn\u001b[39;00m io_open(file, \u001b[38;5;241m*\u001b[39margs, \u001b[38;5;241m*\u001b[39m\u001b[38;5;241m*\u001b[39mkwargs)\n",
      "\u001b[1;31mFileNotFoundError\u001b[0m: [Errno 2] No such file or directory: 'membres.bin'"
     ]
    }
   ],
   "source": [
    "liste_membres()\n",
    "print(membre)"
   ]
  },
  {
   "cell_type": "code",
   "execution_count": null,
   "id": "871f61f4",
   "metadata": {},
   "outputs": [],
   "source": []
  }
 ],
 "metadata": {
  "kernelspec": {
   "display_name": "Python 3 (ipykernel)",
   "language": "python",
   "name": "python3"
  },
  "language_info": {
   "codemirror_mode": {
    "name": "ipython",
    "version": 3
   },
   "file_extension": ".py",
   "mimetype": "text/x-python",
   "name": "python",
   "nbconvert_exporter": "python",
   "pygments_lexer": "ipython3",
   "version": "3.11.3"
  }
 },
 "nbformat": 4,
 "nbformat_minor": 5
}
