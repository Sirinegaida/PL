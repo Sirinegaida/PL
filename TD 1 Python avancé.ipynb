{
 "cells": [
  {
   "cell_type": "markdown",
   "id": "81225040",
   "metadata": {},
   "source": [
    "**Exercice1**"
   ]
  },
  {
   "cell_type": "markdown",
   "id": "e72178f8",
   "metadata": {},
   "source": [
    "**1ere partie**"
   ]
  },
  {
   "cell_type": "code",
   "execution_count": 7,
   "id": "e62b22d4",
   "metadata": {},
   "outputs": [
    {
     "name": "stdout",
     "output_type": "stream",
     "text": [
      "please enter a number 0\n",
      "you can not divide by zero\n",
      "None\n"
     ]
    }
   ],
   "source": [
    "def inverse (x):\n",
    "    try:\n",
    "        y = 1/x\n",
    "        return y \n",
    "    except ZeroDivisionError:\n",
    "        print (\"you can not divide by zero\")\n",
    "    except:\n",
    "        print(\"there is an error\")\n",
    "\n",
    "x=int(input(\"please enter a number \"))       \n",
    "print(inverse(x))\n",
    "        \n"
   ]
  },
  {
   "cell_type": "markdown",
   "id": "d7a608e7",
   "metadata": {},
   "source": [
    "**correction**"
   ]
  },
  {
   "cell_type": "code",
   "execution_count": 12,
   "id": "edf7ab4e",
   "metadata": {},
   "outputs": [
    {
     "name": "stdout",
     "output_type": "stream",
     "text": [
      "Error ------------------ Division by zero not allowed\n",
      "end\n"
     ]
    }
   ],
   "source": [
    "def inverse (x):\n",
    "    try:\n",
    "        return 1/x\n",
    "    except ZeroDivisionError:\n",
    "        print(\"Error ------------------ Division by zero not allowed\")\n",
    "    except (ValueError, TypeError):\n",
    "        print(\"unknown error\")\n",
    "    else:\n",
    "        return 'end'\n",
    "\n",
    "\n",
    "print(inverse(0))\n"
   ]
  },
  {
   "cell_type": "markdown",
   "id": "3f4d3fd4",
   "metadata": {},
   "source": [
    "### partie deux"
   ]
  },
  {
   "cell_type": "code",
   "execution_count": 23,
   "id": "9c7e2919",
   "metadata": {},
   "outputs": [
    {
     "name": "stdout",
     "output_type": "stream",
     "text": [
      "1.0 0.45454545454545453\n"
     ]
    }
   ],
   "source": [
    "def inverse(x,y):\n",
    "    try:\n",
    "        assert type(x) == int\n",
    "        assert type(y) == float\n",
    "        x= 1/x\n",
    "        y= 1/y\n",
    "        print(x,y)\n",
    "    except ZeroDivisionError:\n",
    "        print (\"you can not divide by zero\")\n",
    "    else:\n",
    "        \"end\"\n",
    "    \n",
    "inverse(1,2.2)"
   ]
  },
  {
   "cell_type": "markdown",
   "id": "e9da2e0d",
   "metadata": {},
   "source": [
    "**Correction**"
   ]
  },
  {
   "cell_type": "code",
   "execution_count": null,
   "id": "f5d0e5a1",
   "metadata": {},
   "outputs": [],
   "source": [
    "def inverse (x):\n",
    "    try:\n",
    "        return 1/x\n",
    "    except ZeroDivisionError:\n",
    "        print(\"Error ------------------ Division by zero not allowed\")\n",
    "    except (ValueError, TypeError):\n",
    "        print(\"unknown error\")\n",
    "    else:\n",
    "        return 'end'\n",
    "\n",
    "while True:\n",
    "    try:\n",
    "        n1= int(input(\"Donner un entier\"))\n",
    "        print(\"l'inverse de {} est {}  \".format(n1, inverse(n1)))\n",
    "    except:\n",
    "        print(\"erreur : la valeur donnée est incorrecte\")\n",
    "    else:\n",
    "        break\n",
    "        \n",
    "while True:        \n",
    "    try:\n",
    "        n2= float(input(\"Donner un entier\"))\n",
    "        print(\"l'inverse de {} est {}  \".format(n2, inverse(n2)))\n",
    "    except:\n",
    "        print(\"erreur : la valeur donnée est incorrecte\n",
    "    else:\n",
    "        break\n",
    "        "
   ]
  },
  {
   "cell_type": "markdown",
   "id": "07aecc50",
   "metadata": {},
   "source": [
    "**partie trois**"
   ]
  },
  {
   "cell_type": "code",
   "execution_count": 26,
   "id": "fae713e8",
   "metadata": {},
   "outputs": [
    {
     "name": "stdout",
     "output_type": "stream",
     "text": [
      "please enter the first number1\n",
      "please enter the second number0\n",
      "you can not divide by zero\n",
      "please renter an other value\n"
     ]
    }
   ],
   "source": [
    "def inverse(x,y):\n",
    "    try:\n",
    "        assert type(x) == int\n",
    "        assert type(y) == float\n",
    "        x= 1/x\n",
    "        y= 1/y\n",
    "        print(x,y)\n",
    "    except ZeroDivisionError:\n",
    "        print (\"you can not divide by zero\")\n",
    "        print (\"please renter an other value\") \n",
    "    else:\n",
    "        \"end\"\n",
    "        \n",
    "        \n",
    "x= int(input(\"please enter the first number\"))\n",
    "y= float(input(\"please enter the second number\"))\n",
    "inverse(x,y)"
   ]
  },
  {
   "cell_type": "markdown",
   "id": "d227071e",
   "metadata": {},
   "source": [
    "## Exercice2"
   ]
  },
  {
   "cell_type": "code",
   "execution_count": null,
   "id": "4e1bc82f",
   "metadata": {},
   "outputs": [],
   "source": [
    "def saisir_entier():\n",
    "    try:\n",
    "        return int(input(\"donner un entier dans l'intervalle [10,99] : \"))\n",
    "    except ValueError:\n",
    "        print(\"la valeur introduite n'est pas un entier\")\n",
    "print(saisir_entier())"
   ]
  },
  {
   "cell_type": "code",
   "execution_count": null,
   "id": "995dc27c",
   "metadata": {},
   "outputs": [],
   "source": [
    "print(saisir_entier())"
   ]
  },
  {
   "cell_type": "code",
   "execution_count": null,
   "id": "fd8005f2",
   "metadata": {},
   "outputs": [],
   "source": [
    "print(4+5)"
   ]
  },
  {
   "cell_type": "markdown",
   "id": "a1aff34e",
   "metadata": {},
   "source": [
    "Code"
   ]
  },
  {
   "cell_type": "code",
   "execution_count": 2,
   "id": "de5b496e",
   "metadata": {
    "scrolled": true
   },
   "outputs": [
    {
     "name": "stdout",
     "output_type": "stream",
     "text": [
      "Veuillez saisir un entier entre 10 et 99 : 2\n",
      "Entier trop petit : il doit être supérieur à 10\n",
      "Veuillez saisir un entier entre 10 et 99 : 100\n",
      "Entier trop grand : il doit être inférieur à 100\n",
      "Veuillez saisir un entier entre 10 et 99 : 15\n",
      "Vous avez saisi l'entier : 15\n"
     ]
    }
   ],
   "source": [
    "def saisir_entier():\n",
    "    while True:\n",
    "        try:\n",
    "            entier = int(input(\"Veuillez saisir un entier entre 10 et 99 : \"))\n",
    "            if 10 <= entier <= 99:\n",
    "                return entier\n",
    "            elif entier < 10:\n",
    "                print(\"Entier trop petit : il doit être supérieur à 10\")\n",
    "            else:\n",
    "                print(\"Entier trop grand : il doit être inférieur à 100\")\n",
    "        except ValueError:\n",
    "            print(\"La valeur introduite n'est pas un entier\")\n",
    "\n",
    "\n",
    "entier_saisi = saisir_entier()\n",
    "print(f\"Vous avez saisi l'entier : {entier_saisi}\")"
   ]
  },
  {
   "cell_type": "markdown",
   "id": "8281cfb4",
   "metadata": {},
   "source": [
    "## Exercice3"
   ]
  },
  {
   "cell_type": "markdown",
   "id": "5b38a030",
   "metadata": {},
   "source": [
    "**Question 1**"
   ]
  },
  {
   "cell_type": "code",
   "execution_count": 3,
   "id": "4c83514d",
   "metadata": {},
   "outputs": [
    {
     "name": "stdout",
     "output_type": "stream",
     "text": [
      "Le nombre est dans l'intervalle : True\n",
      "Erreur : Le nombre donné n'est pas de type entier.\n",
      "Erreur : La valeur n'est pas un entier à 3 chiffres (compris entre 100 et 999 inclus).\n"
     ]
    }
   ],
   "source": [
    "def verifie_entier_3c(nombre):\n",
    "    if not isinstance(nombre, int):\n",
    "        raise TypeError(\"Le nombre donné n'est pas de type entier.\")\n",
    "    \n",
    "    if 100 <= nombre <= 999:\n",
    "        return True\n",
    "    else:\n",
    "        raise ValueError(\"La valeur n'est pas un entier à 3 chiffres (compris entre 100 et 999 inclus).\")\n",
    "\n",
    "# Exemples d'utilisation de la fonction avec des tests\n",
    "\n",
    "try:\n",
    "    resultat = verifie_entier_3c(123)\n",
    "    print(f\"Le nombre est dans l'intervalle : {resultat}\")\n",
    "except TypeError as te:\n",
    "    print(f\"Erreur : {te}\")\n",
    "except ValueError as ve:\n",
    "    print(f\"Erreur : {ve}\")\n",
    "\n",
    "try:\n",
    "    resultat = verifie_entier_3c(\"abc\")\n",
    "    print(f\"Le nombre est dans l'intervalle : {resultat}\")\n",
    "except TypeError as te:\n",
    "    print(f\"Erreur : {te}\")\n",
    "except ValueError as ve:\n",
    "    print(f\"Erreur : {ve}\")\n",
    "\n",
    "try:\n",
    "    resultat = verifie_entier_3c(9999)\n",
    "    print(f\"Le nombre est dans l'intervalle : {resultat}\")\n",
    "except TypeError as te:\n",
    "    print(f\"Erreur : {te}\")\n",
    "except ValueError as ve:\n",
    "    print(f\"Erreur : {ve}\")"
   ]
  },
  {
   "cell_type": "markdown",
   "id": "751497ed",
   "metadata": {},
   "source": [
    "**Question 2**"
   ]
  },
  {
   "cell_type": "code",
   "execution_count": 5,
   "id": "1826b8f3",
   "metadata": {},
   "outputs": [
    {
     "name": "stdout",
     "output_type": "stream",
     "text": [
      "Les valeurs sont correctes : True\n",
      "Erreur : Les paramètres doivent être des entiers.\n",
      "Erreur : Les valeurs ne sont pas dans les bons intervalles.\n"
     ]
    }
   ],
   "source": [
    "def verifie_heure(heures, minutes, secondes):\n",
    "    try:\n",
    "        assert isinstance(heures, int) and isinstance(minutes, int) and isinstance(secondes, int), \"Les paramètres doivent être des entiers.\"\n",
    "        assert 0 <= heures <= 23 and 0 <= minutes <= 59 and 0 <= secondes <= 59, \"Les valeurs ne sont pas dans les bons intervalles.\"\n",
    "        return True\n",
    "    except AssertionError as ae:\n",
    "        raise ValueError(str(ae))\n",
    "\n",
    "# Exemples d'utilisation de la fonction avec des tests\n",
    "try:\n",
    "    resultat = verifie_heure(12, 30, 45)\n",
    "    print(f\"Les valeurs sont correctes : {resultat}\")\n",
    "except ValueError as ve:\n",
    "    print(f\"Erreur : {ve}\")\n",
    "\n",
    "try:\n",
    "    resultat = verifie_heure(\"abc\", 30, 45)\n",
    "    print(f\"Les valeurs sont correctes : {resultat}\")\n",
    "except ValueError as ve:\n",
    "    print(f\"Erreur : {ve}\")\n",
    "\n",
    "try:\n",
    "    resultat = verifie_heure(25, 30, 45)\n",
    "    print(f\"Les valeurs sont correctes : {resultat}\")\n",
    "except ValueError as ve:\n",
    "    print(f\"Erreur : {ve}\")"
   ]
  },
  {
   "cell_type": "markdown",
   "id": "f539bc7f",
   "metadata": {},
   "source": [
    "**Question 3**"
   ]
  },
  {
   "cell_type": "code",
   "execution_count": 6,
   "id": "ace338fd",
   "metadata": {
    "scrolled": true
   },
   "outputs": [
    {
     "name": "stdout",
     "output_type": "stream",
     "text": [
      "Les valeurs sont correctes : True\n",
      "Erreur : Les paramètres doivent être des entiers.\n",
      "Erreur : Le jour doit être dans l'intervalle [1, 31].\n",
      "Erreur : Le mois doit être dans l'intervalle [1, 12].\n",
      "Erreur : L'année doit être dans l'intervalle [2022, 2050].\n"
     ]
    }
   ],
   "source": [
    "def verifie_date(jour, mois, annee):\n",
    "    try:\n",
    "        assert isinstance(jour, int) and isinstance(mois, int) and isinstance(annee, int), \"Les paramètres doivent être des entiers.\"\n",
    "        assert 2022 <= annee <= 2050, \"L'année doit être dans l'intervalle [2022, 2050].\"\n",
    "        assert 1 <= mois <= 12, \"Le mois doit être dans l'intervalle [1, 12].\"\n",
    "        assert 1 <= jour <= 31, \"Le jour doit être dans l'intervalle [1, 31].\"\n",
    "        return True\n",
    "    except AssertionError as ae:\n",
    "        raise ValueError(str(ae))\n",
    "\n",
    "# Exemples d'utilisation de la fonction avec des tests\n",
    "try:\n",
    "    resultat = verifie_date(15, 6, 2030)\n",
    "    print(f\"Les valeurs sont correctes : {resultat}\")\n",
    "except ValueError as ve:\n",
    "    print(f\"Erreur : {ve}\")\n",
    "\n",
    "try:\n",
    "    resultat = verifie_date(\"abc\", 6, 2030)\n",
    "    print(f\"Les valeurs sont correctes : {resultat}\")\n",
    "except ValueError as ve:\n",
    "    print(f\"Erreur : {ve}\")\n",
    "\n",
    "try:\n",
    "    resultat = verifie_date(32, 6, 2030)\n",
    "    print(f\"Les valeurs sont correctes : {resultat}\")\n",
    "except ValueError as ve:\n",
    "    print(f\"Erreur : {ve}\")\n",
    "\n",
    "try:\n",
    "    resultat = verifie_date(15, 13, 2030)\n",
    "    print(f\"Les valeurs sont correctes : {resultat}\")\n",
    "except ValueError as ve:\n",
    "    print(f\"Erreur : {ve}\")\n",
    "\n",
    "try:\n",
    "    resultat = verifie_date(15, 6, 2010)\n",
    "    print(f\"Les valeurs sont correctes : {resultat}\")\n",
    "except ValueError as ve:\n",
    "    print(f\"Erreur : {ve}\")"
   ]
  },
  {
   "cell_type": "markdown",
   "id": "8645688e",
   "metadata": {},
   "source": [
    "## Exercice 4 "
   ]
  },
  {
   "cell_type": "code",
   "execution_count": 7,
   "id": "1081cc1e",
   "metadata": {},
   "outputs": [
    {
     "name": "stdout",
     "output_type": "stream",
     "text": [
      "Le résultat du mapping est : [(1, 4), (2, 5), (3, 6)]\n",
      "Erreur : Les deux listes doivent contenir des valeurs entières.\n",
      "Erreur : Les deux paramètres doivent être des listes.\n",
      "Erreur : Les deux listes doivent avoir la même taille.\n"
     ]
    }
   ],
   "source": [
    "def mapping(liste1, liste2):\n",
    "    try:\n",
    "        assert isinstance(liste1, list) and isinstance(liste2, list), \"Les deux paramètres doivent être des listes.\"\n",
    "        assert len(liste1) == len(liste2), \"Les deux listes doivent avoir la même taille.\"\n",
    "        assert all(isinstance(x, int) for x in liste1) and all(isinstance(y, int) for y in liste2), \"Les deux listes doivent contenir des valeurs entières.\"\n",
    "        \n",
    "        resultat = [(x, y) for x, y in zip(liste1, liste2)]\n",
    "        return resultat\n",
    "    except AssertionError as ae:\n",
    "        raise AssertionError(str(ae))\n",
    "\n",
    "# Exemples d'utilisation de la fonction avec des tests\n",
    "try:\n",
    "    resultat = mapping([1, 2, 3], [4, 5, 6])\n",
    "    print(f\"Le résultat du mapping est : {resultat}\")\n",
    "except AssertionError as ae:\n",
    "    print(f\"Erreur : {ae}\")\n",
    "\n",
    "try:\n",
    "    resultat = mapping([1, 2, 3], [4, 5.6, 6])\n",
    "    print(f\"Le résultat du mapping est : {resultat}\")\n",
    "except AssertionError as ae:\n",
    "    print(f\"Erreur : {ae}\")\n",
    "\n",
    "try:\n",
    "    resultat = mapping(\"abc\", [4, 5, 6])\n",
    "    print(f\"Le résultat du mapping est : {resultat}\")\n",
    "except AssertionError as ae:\n",
    "    print(f\"Erreur : {ae}\")\n",
    "\n",
    "try:\n",
    "    resultat = mapping([1, 2, 3], [4, 5, 6, 7])\n",
    "    print(f\"Le résultat du mapping est : {resultat}\")\n",
    "except AssertionError as ae:\n",
    "    print(f\"Erreur : {ae}\")"
   ]
  },
  {
   "cell_type": "markdown",
   "id": "92cbe909",
   "metadata": {},
   "source": [
    "## Exercice 5 "
   ]
  },
  {
   "cell_type": "markdown",
   "id": "843ec117",
   "metadata": {},
   "source": [
    "**Question 1**"
   ]
  },
  {
   "cell_type": "code",
   "execution_count": 8,
   "id": "23f5f483",
   "metadata": {
    "scrolled": false
   },
   "outputs": [
    {
     "name": "stdout",
     "output_type": "stream",
     "text": [
      "Bonjour Alice\n",
      "Erreur : Le paramètre 'nom' doit être une chaîne de caractères.\n",
      "Erreur : Le nom doit contenir uniquement des caractères alphabétiques.\n",
      "Erreur : Le nom doit contenir uniquement des caractères alphabétiques.\n"
     ]
    }
   ],
   "source": [
    "def dire_bonjour_a(nom):\n",
    "    try:\n",
    "        assert isinstance(nom, str), \"Le paramètre 'nom' doit être une chaîne de caractères.\"\n",
    "        assert nom.isalpha(), \"Le nom doit contenir uniquement des caractères alphabétiques.\"\n",
    "        assert nom.strip(), \"Le nom ne peut pas être une chaîne de caractères vide.\"\n",
    "\n",
    "        print(f\"Bonjour {nom}\")\n",
    "    except AssertionError as ae:\n",
    "        raise ValueError(str(ae))\n",
    "\n",
    "# Exemples d'utilisation de la fonction avec des tests\n",
    "try:\n",
    "    dire_bonjour_a(\"Alice\")\n",
    "except ValueError as ve:\n",
    "    print(f\"Erreur : {ve}\")\n",
    "\n",
    "try:\n",
    "    dire_bonjour_a(123)\n",
    "except ValueError as ve:\n",
    "    print(f\"Erreur : {ve}\")\n",
    "\n",
    "try:\n",
    "    dire_bonjour_a(\"Bob123\")\n",
    "except ValueError as ve:\n",
    "    print(f\"Erreur : {ve}\")\n",
    "\n",
    "try:\n",
    "    dire_bonjour_a(\"\")\n",
    "except ValueError as ve:\n",
    "    print(f\"Erreur : {ve}\")"
   ]
  },
  {
   "cell_type": "markdown",
   "id": "7366a717",
   "metadata": {},
   "source": [
    "**Question 2**"
   ]
  },
  {
   "cell_type": "code",
   "execution_count": 9,
   "id": "1f12fc0a",
   "metadata": {},
   "outputs": [
    {
     "name": "stdout",
     "output_type": "stream",
     "text": [
      "Est une sous-chaîne : True\n",
      "Erreur : Les paramètres ch1 et ch2 doivent être des chaînes de caractères.\n",
      "Erreur : La position doit être entre 0 et len(ch2) - len(ch1).\n",
      "Erreur : La position doit être entre 0 et len(ch2) - len(ch1).\n"
     ]
    }
   ],
   "source": [
    "def est_sous_chaine(ch1, ch2, pos=0):\n",
    "    try:\n",
    "        assert isinstance(ch1, str) and isinstance(ch2, str), \"Les paramètres ch1 et ch2 doivent être des chaînes de caractères.\"\n",
    "        assert isinstance(pos, int), \"Le paramètre pos doit être un entier.\"\n",
    "        assert 0 <= pos <= len(ch2) - len(ch1), \"La position doit être entre 0 et len(ch2) - len(ch1).\"\n",
    "        assert len(ch1) < len(ch2), \"La taille de ch1 doit être inférieure à la taille de ch2.\"\n",
    "\n",
    "        return ch2.find(ch1, pos) != -1\n",
    "    except AssertionError as ae:\n",
    "        raise ValueError(str(ae))\n",
    "\n",
    "# Exemples d'utilisation de la fonction avec des tests\n",
    "try:\n",
    "    resultat = est_sous_chaine(\"abc\", \"xyzabc123\")\n",
    "    print(f\"Est une sous-chaîne : {resultat}\")\n",
    "except ValueError as ve:\n",
    "    print(f\"Erreur : {ve}\")\n",
    "\n",
    "try:\n",
    "    resultat = est_sous_chaine(\"abc\", 123)\n",
    "    print(f\"Est une sous-chaîne : {resultat}\")\n",
    "except ValueError as ve:\n",
    "    print(f\"Erreur : {ve}\")\n",
    "\n",
    "try:\n",
    "    resultat = est_sous_chaine(\"abcd\", \"xyzabc123\", pos=7)\n",
    "    print(f\"Est une sous-chaîne : {resultat}\")\n",
    "except ValueError as ve:\n",
    "    print(f\"Erreur : {ve}\")\n",
    "\n",
    "try:\n",
    "    resultat = est_sous_chaine(\"abcde\", \"xyzabc123\", pos=7)\n",
    "    print(f\"Est une sous-chaîne : {resultat}\")\n",
    "except ValueError as ve:\n",
    "    print(f\"Erreur : {ve}\")"
   ]
  }
 ],
 "metadata": {
  "kernelspec": {
   "display_name": "Python 3 (ipykernel)",
   "language": "python",
   "name": "python3"
  },
  "language_info": {
   "codemirror_mode": {
    "name": "ipython",
    "version": 3
   },
   "file_extension": ".py",
   "mimetype": "text/x-python",
   "name": "python",
   "nbconvert_exporter": "python",
   "pygments_lexer": "ipython3",
   "version": "3.11.3"
  }
 },
 "nbformat": 4,
 "nbformat_minor": 5
}
