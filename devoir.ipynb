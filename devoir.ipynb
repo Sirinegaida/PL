{
 "cells": [
  {
   "cell_type": "markdown",
   "id": "81225040",
   "metadata": {},
   "source": [
    "**Exercice1**"
   ]
  },
  {
   "cell_type": "code",
   "execution_count": 2,
   "id": "e62b22d4",
   "metadata": {},
   "outputs": [],
   "source": [
    "def head(file, nblines):\n",
    "    \"\"\"\n",
    "    Affiche les nblines premières lignes du fichier file\n",
    "    \"\"\"\n",
    "    try:\n",
    "        with open(file, 'r', encoding='utf-8') as f:\n",
    "            for i in range(nblines):\n",
    "                line = f.readline()\n",
    "                if line:\n",
    "                    print(line, end='')\n",
    "                else:\n",
    "                    break\n",
    "    except FileNotFoundError:\n",
    "        print(f\"Erreur : Le fichier '{file}' n'existe pas\")\n",
    "    except Exception as e:\n",
    "        print(f\"Erreur : {e}\")\n",
    "\n",
    "# Test\n",
    "# head('message.txt', 5)\n"
   ]
  },
  {
   "cell_type": "markdown",
   "id": "d7a608e7",
   "metadata": {},
   "source": [
    "**ex2**"
   ]
  },
  {
   "cell_type": "code",
   "execution_count": 1,
   "id": "edf7ab4e",
   "metadata": {},
   "outputs": [],
   "source": [
    "def split(file, nblines):\n",
    "    \"\"\"\n",
    "    Découpe le fichier file en plusieurs fichiers de nblines lignes maximum\n",
    "    Les fichiers créés sont nommés : file-1, file-2, ..., file-n\n",
    "    \"\"\"\n",
    "    try:\n",
    "        with open(file, 'r', encoding='utf-8') as f:\n",
    "            lines = f.readlines()\n",
    "        \n",
    "        # Calculer le nombre de fichiers nécessaires\n",
    "        total_lines = len(lines)\n",
    "        num_files = (total_lines + nblines - 1) // nblines  # Division arrondie au supérieur\n",
    "        \n",
    "        # Extraire le nom de base du fichier (sans extension)\n",
    "        base_name = file.rsplit('.', 1)[0]\n",
    "        extension = '.' + file.rsplit('.', 1)[1] if '.' in file else ''\n",
    "        \n",
    "        # Créer les fichiers\n",
    "        for i in range(num_files):\n",
    "            start_idx = i * nblines\n",
    "            end_idx = min(start_idx + nblines, total_lines)\n",
    "            \n",
    "            output_filename = f\"{base_name}-{i+1}{extension}\"\n",
    "            \n",
    "            with open(output_filename, 'w', encoding='utf-8') as output_file:\n",
    "                output_file.writelines(lines[start_idx:end_idx])\n",
    "            \n",
    "            print(f\"Fichier '{output_filename}' créé avec {end_idx - start_idx} lignes\")\n",
    "    \n",
    "    except FileNotFoundError:\n",
    "        print(f\"Erreur : Le fichier '{file}' n'existe pas\")\n",
    "    except Exception as e:\n",
    "        print(f\"Erreur : {e}\")\n",
    "\n",
    "# Test\n",
    "# split('text.txt', 100)"
   ]
  }
 ],
 "metadata": {
  "kernelspec": {
   "display_name": "Python 3",
   "language": "python",
   "name": "python3"
  },
  "language_info": {
   "codemirror_mode": {
    "name": "ipython",
    "version": 3
   },
   "file_extension": ".py",
   "mimetype": "text/x-python",
   "name": "python",
   "nbconvert_exporter": "python",
   "pygments_lexer": "ipython3",
   "version": "3.12.0"
  }
 },
 "nbformat": 4,
 "nbformat_minor": 5
}
